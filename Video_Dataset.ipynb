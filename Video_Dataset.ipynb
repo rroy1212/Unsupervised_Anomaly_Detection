{
  "nbformat": 4,
  "nbformat_minor": 0,
  "metadata": {
    "colab": {
      "name": "Video_Dataset.ipynb",
      "provenance": []
    },
    "kernelspec": {
      "name": "python3",
      "display_name": "Python 3"
    },
    "accelerator": "GPU"
  },
  "cells": [
    {
      "cell_type": "code",
      "metadata": {
        "id": "2IfUr-BI_oks",
        "colab_type": "code",
        "colab": {
          "base_uri": "https://localhost:8080/",
          "height": 153
        },
        "outputId": "acfe9f96-8fa2-42f4-b166-157675102789"
      },
      "source": [
        "!pip3 install mxnet"
      ],
      "execution_count": null,
      "outputs": [
        {
          "output_type": "stream",
          "text": [
            "Requirement already satisfied: mxnet in /usr/local/lib/python3.6/dist-packages (1.6.0)\n",
            "Requirement already satisfied: numpy<2.0.0,>1.16.0 in /usr/local/lib/python3.6/dist-packages (from mxnet) (1.18.5)\n",
            "Requirement already satisfied: requests<3,>=2.20.0 in /usr/local/lib/python3.6/dist-packages (from mxnet) (2.23.0)\n",
            "Requirement already satisfied: graphviz<0.9.0,>=0.8.1 in /usr/local/lib/python3.6/dist-packages (from mxnet) (0.8.4)\n",
            "Requirement already satisfied: urllib3!=1.25.0,!=1.25.1,<1.26,>=1.21.1 in /usr/local/lib/python3.6/dist-packages (from requests<3,>=2.20.0->mxnet) (1.24.3)\n",
            "Requirement already satisfied: chardet<4,>=3.0.2 in /usr/local/lib/python3.6/dist-packages (from requests<3,>=2.20.0->mxnet) (3.0.4)\n",
            "Requirement already satisfied: certifi>=2017.4.17 in /usr/local/lib/python3.6/dist-packages (from requests<3,>=2.20.0->mxnet) (2020.6.20)\n",
            "Requirement already satisfied: idna<3,>=2.5 in /usr/local/lib/python3.6/dist-packages (from requests<3,>=2.20.0->mxnet) (2.9)\n"
          ],
          "name": "stdout"
        }
      ]
    },
    {
      "cell_type": "code",
      "metadata": {
        "id": "Lu_VfEZnQ14G",
        "colab_type": "code",
        "colab": {
          "base_uri": "https://localhost:8080/",
          "height": 85
        },
        "outputId": "079212aa-f9fa-48b9-8024-676004845007"
      },
      "source": [
        "!python convSTAE.py"
      ],
      "execution_count": null,
      "outputs": [
        {
          "output_type": "stream",
          "text": [
            "Traceback (most recent call last):\n",
            "  File \"convSTAE.py\", line 5, in <module>\n",
            "    import utils\n",
            "ModuleNotFoundError: No module named 'utils'\n"
          ],
          "name": "stdout"
        }
      ]
    },
    {
      "cell_type": "code",
      "metadata": {
        "id": "3iCl-ikI-oA1",
        "colab_type": "code",
        "colab": {}
      },
      "source": [
        "import glob\n",
        "import numpy as np\n",
        "from urllib.request import urlopen\n",
        "import tarfile\n",
        "import os\n",
        "import mxnet as mx\n",
        "from mxnet import gluon\n",
        "from PIL import Image\n",
        "from scipy import signal\n",
        "from matplotlib import pyplot as plt\n",
        "\n"
      ],
      "execution_count": null,
      "outputs": []
    },
    {
      "cell_type": "code",
      "metadata": {
        "id": "3ghhUZVdAMx2",
        "colab_type": "code",
        "colab": {}
      },
      "source": [
        "\n",
        "class ConvolutionalAutoencoder(gluon.nn.HybridBlock):\n",
        "    \n",
        "    def __init__(self):\n",
        "        super(ConvolutionalAutoencoder, self).__init__()\n",
        "        \n",
        "        with self.name_scope():\n",
        "            self.encoder = gluon.nn.HybridSequential()\n",
        "            with self.encoder.name_scope():\n",
        "                self.encoder.add(gluon.nn.Conv2D(32, 5, activation='relu'))\n",
        "                self.encoder.add(gluon.nn.MaxPool2D(2))\n",
        "                self.encoder.add(gluon.nn.Conv2D(32, 5, activation='relu'))\n",
        "                self.encoder.add(gluon.nn.MaxPool2D(2))\n",
        "                self.encoder.add(gluon.nn.Dense(2000))\n",
        "\n",
        "            self.decoder = gluon.nn.HybridSequential()\n",
        "            with self.decoder.name_scope():\n",
        "                self.decoder.add(gluon.nn.Dense(32*22*22, activation='relu'))\n",
        "                self.decoder.add(gluon.nn.HybridLambda(lambda F, x: F.UpSampling(x, scale=2, sample_type='nearest')))\n",
        "                self.decoder.add(gluon.nn.Conv2DTranspose(32, 5, activation='relu'))\n",
        "                self.decoder.add(gluon.nn.HybridLambda(lambda F, x: F.UpSampling(x, scale=2, sample_type='nearest')))\n",
        "                self.decoder.add(gluon.nn.Conv2DTranspose(1, kernel_size=5, activation='sigmoid'))\n",
        "\n",
        "    def hybrid_forward(self, F, x):\n",
        "        x = self.encoder(x)\n",
        "        x = self.decoder[0](x)\n",
        "        x = x.reshape((-1,32,22,22))\n",
        "        x = self.decoder[1:](x)\n",
        "\n",
        "        return x"
      ],
      "execution_count": null,
      "outputs": []
    },
    {
      "cell_type": "code",
      "metadata": {
        "id": "QJSfIkI9A2ft",
        "colab_type": "code",
        "colab": {}
      },
      "source": [
        "files = sorted(glob.glob('UCSD_Anomaly_Dataset.v1p2/UCSDped1/Train/*/*'))\n",
        "a = np.zeros((len(files),1,100,100))\n",
        "\n",
        "for idx, filename in enumerate(files):\n",
        "    im = Image.open(filename)\n",
        "    im = im.resize((100,100))\n",
        "    a[idx,0,:,:] = np.array(im, dtype=np.float32)/255.0\n",
        "\n",
        "dataset = gluon.data.ArrayDataset(mx.nd.array(a, dtype=np.float32))\n",
        "dataloader = gluon.data.DataLoader(dataset, batch_size=batch_size, last_batch='rollover',shuffle=True)"
      ],
      "execution_count": null,
      "outputs": []
    }
  ]
}